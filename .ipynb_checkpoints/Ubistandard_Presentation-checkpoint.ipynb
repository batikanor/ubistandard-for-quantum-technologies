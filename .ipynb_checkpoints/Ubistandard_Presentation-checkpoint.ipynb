{
 "cells": [
  {
   "cell_type": "code",
   "execution_count": 6,
   "metadata": {},
   "outputs": [
    {
     "data": {
      "text/html": [
       "<script>\n",
       "\n",
       "code_show=true; \n",
       "\n",
       "function code_toggle() {\n",
       "  if (code_show) {\n",
       "  \n",
       "    $('div.input').each(function(id) {\n",
       "    \n",
       "      el = $(this).find('.cm-variable:first');\n",
       "      if (id == 0 || el.text() == 'hide_cell') {\n",
       "        $(this).hide();\n",
       "      }\n",
       "    });\n",
       "    $('div.output_prompt').css('opacity', 0);\n",
       "  } else {\n",
       "    $('div.input').each(function(id) {\n",
       "\n",
       "        $(this).show();\n",
       "      \n",
       "    });\n",
       "    \n",
       "    $('div.output_prompt').css('opacity', 1);\n",
       "  \n",
       "  } // The output will still be showing\n",
       "  \n",
       "  code_show = !code_show\n",
       "} \n",
       "\n",
       "$( document ).ready(code_toggle);\n",
       "\n",
       "</script>\n",
       "\n",
       "<form action=\"javascript:code_toggle()\"><input style=\"opacity:0\" type=\"submit\" value=\"Click here to toggle on/off the raw code.\"></form>"
      ],
      "text/plain": [
       "<IPython.core.display.HTML object>"
      ]
     },
     "execution_count": 6,
     "metadata": {},
     "output_type": "execute_result"
    }
   ],
   "source": [
    "from IPython.display import HTML\n",
    "\n",
    "hide_cell = ''\n",
    "HTML('''<script>\n",
    "\n",
    "code_show=true; \n",
    "\n",
    "function code_toggle() {\n",
    "  if (code_show) {\n",
    "  \n",
    "    $('div.input').each(function(id) {\n",
    "    \n",
    "      el = $(this).find('.cm-variable:first');\n",
    "      if (id == 0 || el.text() == 'hide_cell') {\n",
    "        $(this).hide();\n",
    "      }\n",
    "    });\n",
    "    $('div.output_prompt').css('opacity', 0);\n",
    "  } else {\n",
    "    $('div.input').each(function(id) {\n",
    "\n",
    "        $(this).show();\n",
    "      \n",
    "    });\n",
    "    \n",
    "    $('div.output_prompt').css('opacity', 1);\n",
    "  \n",
    "  } // The output will still be showing\n",
    "  \n",
    "  code_show = !code_show\n",
    "} \n",
    "\n",
    "$( document ).ready(code_toggle);\n",
    "\n",
    "</script>\n",
    "\n",
    "<form action=\"javascript:code_toggle()\"><input style=\"opacity:0\" type=\"submit\" value=\"Click here to toggle on/off the raw code.\"></form>''')\n"
   ]
  },
  {
   "cell_type": "markdown",
   "metadata": {},
   "source": [
    "# 0. INTRO\n",
    "\n",
    "\n",
    "# Merhaba!\n",
    "\n",
    "## Grup Adı: Ubistandard\n",
    "\n",
    "## Üyeler:\n",
    "1.Batıkan Bora ORMANCI\n",
    "\n",
    "2.Can Artun\n",
    "\n",
    "3.Kamil Kaya\n",
    "\n",
    "### Organizasyon ekibine sağladıkları bu olanak için teşekkür ederiz!\n",
    "\n",
    "\n"
   ]
  },
  {
   "cell_type": "markdown",
   "metadata": {},
   "source": [
    "# 1. STORY & MOTIVATION\n",
    "\n",
    "\n",
    "#### Neden Eğitim Materyallerinde Standartlaşma?\n",
    "\n",
    "#### Neden Quantum Teknolojileri Hackathon'unda bu konu?\n",
    "\n",
    "\n"
   ]
  },
  {
   "cell_type": "markdown",
   "metadata": {},
   "source": [
    "# 2. STANDARDS WE PROPOSE\n",
    "\n",
    "Uzun vadede bir standartlar ağacı çizilip yeni eğitim materyallerinin en güncel standartlarla yapılması, eskilerinin de gerekmesi durumunda standarda göre güncellenmesi sözkonusu olabilir. Standardı bir program kodu gibi düşünürsek, yeni bir commit ve push yapılması eski versiyonun üstüne yazmaktan çok yeni bir versiyon geliştirmektir. Ayrıca proje fork edilip başkalarınca geliştirilmeye de devam edebilir. Aynı durum standartlarda da işletilebileceğinden uzun vadede oluşabilecek şey bir standartlar çizgisi değil, standartlar ağacıdır\n",
    "\n",
    "\n",
    "UBISTANDARD1.0 - İÇERİK\n",
    "\n",
    "1. Yazar kişi veya kurumun doğrudan yetki sahibi olmadığı herhangi bir içeriğe yöneltilen linklerin yerini dünyanın her yerinde aynı sonucu verecek, ama sonucun güncel olduğundan da bir bakıma emin olmamızı sağlayabilecek bir sistem almalı. (İstisnalar: Resim vb. yeri değişmeyeceğine güvenilen multimedya içerikleri)\n",
    "2. Uzun paragraflar yerine anlatımlar implikasyonlar zinciri ve olaylar zinciri olmak üzere ayrılmalılar\n",
    "3. Kompleksiteden kaçınmak için ve konvensiyonel anlatimlardan aniden çok uzaklaşmamış olmak için, bunun ilk standart oluşu da değerlendirilerek zincirlerin birbiriyle bağlanmamaları, mümkün olduğunca tek boyutlu tutulmaları uygun görülmüştür.\n",
    "4. Implikasyon için ⮚⮛ ve olay zinciri için ⮞⮟ sembolleri kullanılır.\n",
    "5. Kimi zaman iki ifade ayni anlami tasimaktadirlar. Bu durumlarda metnin uzunluğuna göre (sebeplendirilip sınır belirlenebilir vs...) ifadelerden biri çıkarılabilir veya yine olay zinciri sembolü kullanılabilir.\n",
    "6. Analoji ve örneklemelere yalnızca son çare olarak başvurulmalı.\n",
    "7. Konudışı örneklendirmeler aşikar kılınmalı. Örneğin başına \"TRIVIA:\" veya \"OPTIONAL:\" türü ibareler eklenerek.\n",
    "\n",
    "\n",
    "UBISTANDARD1.0 - PRAGMATİK ANALIZ\n",
    "* Yazılım bir araç mıdır?\n",
    "* Standartlaşma her zaman faydalı mıdır?\n",
    "* Böyle bir standartlar daha da geliştirilip quantum programlama gibi bir alanda kullanılırsa kısa / orta / uzun vadede ne gibi çıktılar alınabilir?\n",
    "\n",
    "\n",
    "\n",
    "\n",
    "UBISTANDARD1.0 - ADAPTABİLİTE\n",
    "* Her metin en güncel standarda uyarlanmalı mıdır?\n",
    "* Standartlar nasıl değişir?\n",
    "\n"
   ]
  },
  {
   "cell_type": "markdown",
   "metadata": {},
   "source": [
    "![logic symbols](https://ubistandard.ml/other/symbols/SymbolsOfLogic4JupyterNotebook.png)"
   ]
  },
  {
   "cell_type": "code",
   "execution_count": null,
   "metadata": {},
   "outputs": [],
   "source": [
    "%%bash\n",
    "\n",
    "firefox ubistandard.ml/d/qturkey\n",
    "# curl --location ubistandard.ml/d/google%20kotlin%20codelab\n"
   ]
  },
  {
   "cell_type": "code",
   "execution_count": null,
   "metadata": {},
   "outputs": [],
   "source": [
    "%%bash\n",
    "\n",
    "ddgr qturkey"
   ]
  },
  {
   "cell_type": "code",
   "execution_count": null,
   "metadata": {},
   "outputs": [],
   "source": [
    "%load_ext ubistandard_ext"
   ]
  },
  {
   "cell_type": "code",
   "execution_count": null,
   "metadata": {},
   "outputs": [],
   "source": [
    "%webfetcher kotlincodelab"
   ]
  },
  {
   "cell_type": "code",
   "execution_count": null,
   "metadata": {},
   "outputs": [],
   "source": [
    "%load_ext hierarchymagic\n"
   ]
  },
  {
   "cell_type": "code",
   "execution_count": null,
   "metadata": {
    "scrolled": true
   },
   "outputs": [],
   "source": [
    "%%dot\n",
    "\n",
    "digraph G {\n",
    "    rankdir=UD;\n",
    "    \"Python libraries including quantum ones are often updated\"  -> \"there might appear some problems due to different versions\";\n",
    "    \"Ikincinin sebebi benim\" -> \"ucuncunun sebebi benim\";\n",
    "    \"ucuncunun sebebi benim\" -> \"ben ucuncuyum\";\n",
    "}"
   ]
  },
  {
   "cell_type": "markdown",
   "metadata": {},
   "source": [
    "* In daily life, we use decimal number system\n",
    "    * 0, 1, 2, 3, 4, 5, 6, 7, 8, and 9.\n",
    "    * In computer science, on the other hand, the widely used system is binary, which has only two digits\n",
    "        * 0 and 1\n",
    "    * Bit (or binary digit) is the basic unit of information used in computer science and information theory. \n"
   ]
  },
  {
   "cell_type": "markdown",
   "metadata": {},
   "source": [
    "İmplikasyonlar ve olay zincirlerini anlatmak için grafikler, maddelendirmeler, ağaçlar gibi yapıları kullanabiliriz. Bunu yaparken kaynak kodu da saklayabiliriz, böylece kullanıcı sadece içeriği görmüş olur. Örnek olarak aşağıdaki kod bloğunu inceleyelim;"
   ]
  },
  {
   "cell_type": "code",
   "execution_count": 5,
   "metadata": {},
   "outputs": [
    {
     "name": "stdout",
     "output_type": "stream",
     "text": [
      "qturkey quantum\n"
     ]
    }
   ],
   "source": [
    "print('qturkey quantum')"
   ]
  },
  {
   "cell_type": "markdown",
   "metadata": {},
   "source": [
    "# 3. CONS OF STANDARDIZATION\n",
    "* Özellikle de Amerika'da standartlaşmış eğitim ve testler ile ADHD (attention deficit hyperactivity disorder) 'tanı' larının paralel arttığı gözlemlenmiş. Aslında bunun sebebi standartlaşmanın bir bakıma birçok kişi için sıkıcı olması... Tabi biraz da tartışmalı bir mevzu...  "
   ]
  }
 ],
 "metadata": {
  "kernelspec": {
   "display_name": "Python 3",
   "language": "python",
   "name": "python3"
  },
  "language_info": {
   "codemirror_mode": {
    "name": "ipython",
    "version": 3
   },
   "file_extension": ".py",
   "mimetype": "text/x-python",
   "name": "python",
   "nbconvert_exporter": "python",
   "pygments_lexer": "ipython3",
   "version": "3.8.3"
  }
 },
 "nbformat": 4,
 "nbformat_minor": 4
}
